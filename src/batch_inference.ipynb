{
 "cells": [
  {
   "cell_type": "code",
   "execution_count": 2,
   "id": "82da230e",
   "metadata": {},
   "outputs": [
    {
     "name": "stderr",
     "output_type": "stream",
     "text": [
      "/home/mihirathale/anaconda3/envs/myenv/lib/python3.9/site-packages/tqdm/auto.py:21: TqdmWarning: IProgress not found. Please update jupyter and ipywidgets. See https://ipywidgets.readthedocs.io/en/stable/user_install.html\n",
      "  from .autonotebook import tqdm as notebook_tqdm\n"
     ]
    }
   ],
   "source": [
    "from datasets import load_dataset"
   ]
  },
  {
   "cell_type": "code",
   "execution_count": 3,
   "id": "19c39daa",
   "metadata": {},
   "outputs": [],
   "source": [
    "data = load_dataset('ShenLab/MentalChat16K')"
   ]
  },
  {
   "cell_type": "code",
   "execution_count": 4,
   "id": "e96dcdd0",
   "metadata": {},
   "outputs": [],
   "source": [
    "data = data['train'].train_test_split(test_size=0.1, seed=3407)"
   ]
  },
  {
   "cell_type": "code",
   "execution_count": 5,
   "id": "672560d0",
   "metadata": {},
   "outputs": [],
   "source": [
    "test_data = data['test']"
   ]
  },
  {
   "cell_type": "code",
   "execution_count": 22,
   "id": "44812fbd",
   "metadata": {},
   "outputs": [],
   "source": [
    "from openai import AsyncOpenAI\n",
    "import asyncio\n",
    "import random\n",
    "import logging\n",
    "import json\n",
    "\n",
    "# Simplified client setup\n",
    "def get_client():\n",
    "    \"\"\"\n",
    "    Get client for OpenAI API\n",
    "    Returns:\n",
    "        client (AsyncOpenAI): client for OpenAI\n",
    "    \"\"\"\n",
    "    client = AsyncOpenAI(\n",
    "        base_url=\"https://mihirathale98--vllm-app-serve.modal.run/v1\",\n",
    "        api_key=\"super-secret-key\",\n",
    "    )\n",
    "    return client\n",
    "\n",
    "async def _make_openai_request(\n",
    "    client,\n",
    "    model: str,\n",
    "    messages: list,\n",
    "    temperature: float = 1.0,\n",
    "    max_retries: int = 3,\n",
    "    initial_delay: float = 10,\n",
    "    exponential_base: float = 2,\n",
    "    jitter: bool = True,\n",
    "):\n",
    "    \"\"\"\n",
    "    Make a request to the OpenAI API with retry logic\n",
    "    \"\"\"\n",
    "    if not messages:\n",
    "        return {}\n",
    "    \n",
    "    num_retries = 0\n",
    "    delay = initial_delay\n",
    "    \n",
    "    for _ in range(max_retries + 1):  # +1 to allow for initial attempt\n",
    "        try:\n",
    "            return await client.chat.completions.create(\n",
    "                model=model,\n",
    "                messages=messages,\n",
    "                temperature=temperature,\n",
    "                max_tokens=2048\n",
    "            )\n",
    "        except Exception as e:\n",
    "            logging.warning(f\"Error: {e}\")\n",
    "            num_retries += 1\n",
    "            \n",
    "            # Check if max retries has been reached\n",
    "            if num_retries > max_retries:\n",
    "                logging.error(f\"Maximum number of retries ({max_retries}) exceeded.\")\n",
    "                return {\"choices\": [{\"message\": {\"content\": \"\"}}]}\n",
    "            \n",
    "            # Increment the delay with exponential backoff\n",
    "            delay *= exponential_base * (1 + jitter * random.random())\n",
    "            logging.info(f\"Retrying in {delay:.2f} seconds (attempt {num_retries}/{max_retries})\")\n",
    "            await asyncio.sleep(delay)\n",
    "    \n",
    "    # Fallback if loop exits without returning\n",
    "    return {\"choices\": [{\"message\": {\"content\": \"\"}}]}\n",
    "\n",
    "async def generate_responses(\n",
    "    prompts: list[str],\n",
    "    model: str = 'unsloth/Llama-3.1-8B-Instruct',\n",
    "    temperature: float = 0.0,\n",
    "):\n",
    "    \"\"\"\n",
    "    Generate responses for a list of prompts in parallel\n",
    "    \n",
    "    Args:\n",
    "        prompts: List of prompts to generate responses for\n",
    "        model: Model to use for generation\n",
    "        temperature: Temperature for generation\n",
    "        \n",
    "    Returns:\n",
    "        List of generated responses\n",
    "    \"\"\"\n",
    "    client = get_client()\n",
    "    \n",
    "    # Prepare messages for each prompt\n",
    "    messages = []\n",
    "    for prompt in prompts:\n",
    "        if not prompt:\n",
    "            messages.append({})\n",
    "            continue\n",
    "        messages.append([{\"role\": \"user\", \"content\": prompt}])\n",
    "    \n",
    "    # Create a list of async tasks\n",
    "    async_responses = [\n",
    "        _make_openai_request(\n",
    "            client,\n",
    "            model=model,\n",
    "            messages=message,\n",
    "            temperature=temperature,\n",
    "        ) for message in messages\n",
    "    ]\n",
    "    \n",
    "    # Execute all requests in parallel\n",
    "    responses = await asyncio.gather(*async_responses)\n",
    "    \n",
    "    # Process responses\n",
    "    processed_responses = []\n",
    "    for response in responses:\n",
    "        if isinstance(response, dict):\n",
    "            processed_responses.append(response)\n",
    "        else:\n",
    "            processed_responses.append(json.loads(response.model_dump_json(indent=2)))\n",
    "    \n",
    "    return processed_responses\n",
    "\n",
    "# Example usage\n",
    "async def main():\n",
    "    prompts = [\n",
    "        \"Write a short poem about the ocean\",\n",
    "        \"Explain quantum computing in simple terms\",\n",
    "        \"Give me three ideas for a dinner recipe\"\n",
    "    ]\n",
    "    \n",
    "    results = await generate_responses(prompts)\n",
    "    \n",
    "    # Extract the content from each response\n",
    "    for i, result in enumerate(results):\n",
    "        content = \"\"\n",
    "        if \"choices\" in result and result[\"choices\"]:\n",
    "            content = result[\"choices\"][0][\"message\"][\"content\"]\n",
    "        print(f\"Prompt {i+1}: {prompts[i]}\")\n",
    "        print(f\"Response: {content}\")\n",
    "        print(\"-\" * 50)\n"
   ]
  },
  {
   "cell_type": "code",
   "execution_count": 7,
   "id": "11958f90",
   "metadata": {},
   "outputs": [
    {
     "name": "stderr",
     "output_type": "stream",
     "text": [
      "Map: 100%|██████████| 1609/1609 [00:00<00:00, 7352.27 examples/s]\n"
     ]
    }
   ],
   "source": [
    "def get_prompt(samples):\n",
    "    prompts = []\n",
    "    inputs = samples['input']\n",
    "    for sample in inputs:\n",
    "        prompt = f\"\"\"Below is an instruction that describes a task, paired with an input that provides further context. Write a response that appropriately completes the request.\n",
    "\n",
    "### Instruction:\n",
    "You are a helpful mental health counselling assistant, please answer the mental health questions based on the patient's description.\n",
    "The assistant gives helpful, comprehensive, and appropriate answers to the user's questions. Provide a clear and concise answer to the user's problem.\n",
    "\n",
    "### Input:\n",
    "{sample}\n",
    "\n",
    "### Response:\n",
    "\"\"\"\n",
    "        prompts.append(prompt)\n",
    "    return {\"prompt\": prompts}\n",
    "\n",
    "# Apply the mapping function to the test data\n",
    "test_data = test_data.map(get_prompt, batched=True, batch_size=8)"
   ]
  },
  {
   "cell_type": "code",
   "execution_count": null,
   "id": "e131cd14",
   "metadata": {},
   "outputs": [],
   "source": [
    "test_data = test_data[:500]"
   ]
  },
  {
   "cell_type": "code",
   "execution_count": 13,
   "id": "90b2ecfc",
   "metadata": {},
   "outputs": [],
   "source": [
    "with open(\"test_data.json\", \"w\") as f:\n",
    "    json.dump(test_data, f)"
   ]
  },
  {
   "cell_type": "code",
   "execution_count": 18,
   "id": "411cfa2d",
   "metadata": {},
   "outputs": [],
   "source": [
    "prompts = test_data[\"prompt\"]"
   ]
  },
  {
   "cell_type": "code",
   "execution_count": 19,
   "id": "b40b7c4d",
   "metadata": {},
   "outputs": [
    {
     "data": {
      "text/plain": [
       "500"
      ]
     },
     "execution_count": 19,
     "metadata": {},
     "output_type": "execute_result"
    }
   ],
   "source": [
    "len(prompts)"
   ]
  },
  {
   "cell_type": "code",
   "execution_count": 23,
   "id": "751f84d4",
   "metadata": {},
   "outputs": [
    {
     "name": "stderr",
     "output_type": "stream",
     "text": [
      "Exception ignored in: <function tqdm.__del__ at 0x7f8c73f41b80>\n",
      "Traceback (most recent call last):\n",
      "  File \"/home/mihirathale/anaconda3/envs/myenv/lib/python3.9/site-packages/tqdm/std.py\", line 1148, in __del__\n",
      "    self.close()\n",
      "  File \"/home/mihirathale/anaconda3/envs/myenv/lib/python3.9/site-packages/tqdm/notebook.py\", line 279, in close\n",
      "    self.disp(bar_style='danger', check_delay=False)\n",
      "AttributeError: 'tqdm_notebook' object has no attribute 'disp'\n",
      "16it [03:41, 13.82s/it]\n"
     ]
    }
   ],
   "source": [
    "from tqdm import tqdm\n",
    "batch_size = 32\n",
    "\n",
    "all_responses = []\n",
    "for i in tqdm(range(0, len(prompts), batch_size), total=len(prompts)//batch_size):\n",
    "    batch = prompts[i:i+batch_size]\n",
    "    responses = await generate_responses(batch)\n",
    "    all_responses.extend(responses)"
   ]
  },
  {
   "cell_type": "code",
   "execution_count": 24,
   "id": "9b68ebb9",
   "metadata": {},
   "outputs": [],
   "source": [
    "with open(\"responses_non_finetuned.json\", \"w\") as f:\n",
    "    json.dump(all_responses, f)"
   ]
  },
  {
   "cell_type": "code",
   "execution_count": null,
   "id": "c2006fbb",
   "metadata": {},
   "outputs": [],
   "source": []
  }
 ],
 "metadata": {
  "kernelspec": {
   "display_name": "myenv",
   "language": "python",
   "name": "python3"
  },
  "language_info": {
   "codemirror_mode": {
    "name": "ipython",
    "version": 3
   },
   "file_extension": ".py",
   "mimetype": "text/x-python",
   "name": "python",
   "nbconvert_exporter": "python",
   "pygments_lexer": "ipython3",
   "version": "3.9.19"
  }
 },
 "nbformat": 4,
 "nbformat_minor": 5
}
